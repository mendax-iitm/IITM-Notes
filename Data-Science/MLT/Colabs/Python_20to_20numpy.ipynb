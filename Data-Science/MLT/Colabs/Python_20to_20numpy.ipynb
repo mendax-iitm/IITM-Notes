{
 "cells": [
  {
   "cell_type": "code",
   "execution_count": 1,
   "metadata": {},
   "outputs": [],
   "source": [
    "import numpy as np"
   ]
  },
  {
   "cell_type": "markdown",
   "metadata": {},
   "source": [
    "#### Element-by-element operations is the default."
   ]
  },
  {
   "cell_type": "markdown",
   "metadata": {},
   "source": [
    "<font style=\"font-family: Gill Sans; font-size:1.1em;color:Magenta;\">Using a normal operation on arrays works through them element-by-element.  For example, matrix multiplication cannot be done using normal multiplication operator.</font>"
   ]
  },
  {
   "cell_type": "code",
   "execution_count": 2,
   "metadata": {},
   "outputs": [
    {
     "data": {
      "text/plain": [
       "array([[18., 18.],\n",
       "       [18., 18.]])"
      ]
     },
     "execution_count": 2,
     "metadata": {},
     "output_type": "execute_result"
    }
   ],
   "source": [
    "A = 3 * np.ones((2,2)) #3 is multiplied with every element in the array\n",
    "B = 6 * np.ones((2,2)) #6 is multiplied with every element in the array\n",
    "A * B"
   ]
  },
  {
   "cell_type": "markdown",
   "metadata": {},
   "source": [
    "#### Is it matmul or dot?"
   ]
  },
  {
   "cell_type": "markdown",
   "metadata": {},
   "source": [
    "<font style=\"font-family: Gill Sans; font-size:1.1em;color:Magenta;\">Both will give same result for a 2D array, but 3D and above the results are different.  In the case of 2D arrays, matmul should be preferred over dot operation.</font>"
   ]
  },
  {
   "cell_type": "code",
   "execution_count": 3,
   "metadata": {},
   "outputs": [
    {
     "data": {
      "text/plain": [
       "array([[36., 36.],\n",
       "       [36., 36.]])"
      ]
     },
     "execution_count": 3,
     "metadata": {},
     "output_type": "execute_result"
    }
   ],
   "source": [
    "np.matmul(A, B)"
   ]
  },
  {
   "cell_type": "code",
   "execution_count": 4,
   "metadata": {},
   "outputs": [
    {
     "data": {
      "text/plain": [
       "array([[36., 36.],\n",
       "       [36., 36.]])"
      ]
     },
     "execution_count": 4,
     "metadata": {},
     "output_type": "execute_result"
    }
   ],
   "source": [
    "A @ B  # same as matmul"
   ]
  },
  {
   "cell_type": "code",
   "execution_count": 5,
   "metadata": {
    "scrolled": false
   },
   "outputs": [
    {
     "data": {
      "text/plain": [
       "array([[36., 36.],\n",
       "       [36., 36.]])"
      ]
     },
     "execution_count": 5,
     "metadata": {},
     "output_type": "execute_result"
    }
   ],
   "source": [
    "np.dot(A, B) #same as matrix multiplication for 2 x 2 arrays."
   ]
  },
  {
   "cell_type": "markdown",
   "metadata": {},
   "source": [
    "<font style=\"font-family: Gill Sans; font-size:1.1em;color:Magenta;\">Between matmul and dot, always prefer to use matmul</font>"
   ]
  },
  {
   "cell_type": "code",
   "execution_count": 6,
   "metadata": {},
   "outputs": [
    {
     "name": "stdout",
     "output_type": "stream",
     "text": [
      "(2, 3, 2, 3)\n",
      "(2, 3, 3)\n"
     ]
    }
   ],
   "source": [
    "#matrix multiplication and dot product are not same for higher dimensional arrays (more than 2D)\n",
    "A = np.random.rand(2,3,3)\n",
    "B = np.random.rand(2,3,3)\n",
    "print(np.dot(A, B).shape)\n",
    "print((A @ B).shape)"
   ]
  },
  {
   "cell_type": "markdown",
   "metadata": {},
   "source": [
    "#### Broadcasting is a superb feature of NumPy, but can I broadcast an entire row?"
   ]
  },
  {
   "cell_type": "markdown",
   "metadata": {},
   "source": [
    "<font style=\"font-family: Gill Sans; font-size:1.1em;color:Magenta;\">The entire first (and only) row of A gets broadcast during multiplication operation with B.  This works only since the number of columns in A and B are equal.</font>"
   ]
  },
  {
   "cell_type": "code",
   "execution_count": 7,
   "metadata": {},
   "outputs": [
    {
     "data": {
      "text/plain": [
       "array([[18., 18.],\n",
       "       [18., 18.],\n",
       "       [18., 18.]])"
      ]
     },
     "execution_count": 7,
     "metadata": {},
     "output_type": "execute_result"
    }
   ],
   "source": [
    "A = 3 * np.ones((1,2))\n",
    "B = 6 *np.ones((3,2))\n",
    "A * B"
   ]
  },
  {
   "cell_type": "markdown",
   "metadata": {},
   "source": [
    "#### What about broadcasting an entire column?"
   ]
  },
  {
   "cell_type": "markdown",
   "metadata": {},
   "source": [
    "<font style=\"font-family: Gill Sans; font-size:1.1em;color:Magenta;\">The entire first (and only) column of A gets broadcast during multiplication operation with B.  This works only since the number of rows in A and B are equal.</font>"
   ]
  },
  {
   "cell_type": "code",
   "execution_count": 8,
   "metadata": {},
   "outputs": [
    {
     "data": {
      "text/plain": [
       "array([[18., 18., 18.],\n",
       "       [18., 18., 18.]])"
      ]
     },
     "execution_count": 8,
     "metadata": {},
     "output_type": "execute_result"
    }
   ],
   "source": [
    "A = 3 * np.ones((2,1))\n",
    "B = 6 *np.ones((2,3))\n",
    "A * B"
   ]
  },
  {
   "cell_type": "markdown",
   "metadata": {},
   "source": [
    "#### Stack or concatentate?"
   ]
  },
  {
   "cell_type": "markdown",
   "metadata": {},
   "source": [
    "<font style=\"font-family: Gill Sans; font-size:1.1em;color:Magenta;\">Both can achieve the same result, but while using concatenate parameter must a tuple, and axis must be specified.  Thus, concatenating along 0th axis stacks vertically, and along 1st axis stacks horizontally.</font>"
   ]
  },
  {
   "cell_type": "code",
   "execution_count": 9,
   "metadata": {},
   "outputs": [],
   "source": [
    "A = np.ones((2,2))\n",
    "B = 2*np.ones((2,2))"
   ]
  },
  {
   "cell_type": "code",
   "execution_count": 10,
   "metadata": {
    "scrolled": false
   },
   "outputs": [
    {
     "name": "stdout",
     "output_type": "stream",
     "text": [
      "[[1. 1. 2. 2.]\n",
      " [1. 1. 2. 2.]]\n"
     ]
    }
   ],
   "source": [
    "A_B = np.hstack((A,B))\n",
    "# A_B = np.concatenate((A, B), axis=1) # same as above\n",
    "print(A_B)"
   ]
  },
  {
   "cell_type": "markdown",
   "metadata": {},
   "source": [
    "<font style=\"font-family: Gill Sans; font-size:1.1em;color:Magenta;\">Infact, np.column_stack also produces the same output</font>"
   ]
  },
  {
   "cell_type": "code",
   "execution_count": 11,
   "metadata": {},
   "outputs": [
    {
     "data": {
      "text/plain": [
       "array([[1., 1., 2., 2.],\n",
       "       [1., 1., 2., 2.]])"
      ]
     },
     "execution_count": 11,
     "metadata": {},
     "output_type": "execute_result"
    }
   ],
   "source": [
    "A_B = np.column_stack((A, B))\n",
    "A_B"
   ]
  },
  {
   "cell_type": "markdown",
   "metadata": {},
   "source": [
    "<font style=\"font-family: Gill Sans; font-size:1.1em;color:Magenta;\">But, hold right there.  There's important difference...np.hstack gives an error when h-stacked with a single dimensional array.  But, column_stack works!</font>"
   ]
  },
  {
   "cell_type": "code",
   "execution_count": 12,
   "metadata": {},
   "outputs": [],
   "source": [
    "A = np.array([1,2]) # a single dimensional array\n",
    "B = 2*np.ones((2,2))"
   ]
  },
  {
   "cell_type": "code",
   "execution_count": 13,
   "metadata": {},
   "outputs": [
    {
     "name": "stdout",
     "output_type": "stream",
     "text": [
      "Gives an error!\n"
     ]
    }
   ],
   "source": [
    "try:\n",
    "    np.hstack((A,B)) \n",
    "except:\n",
    "    print(\"Gives an error!\")"
   ]
  },
  {
   "cell_type": "code",
   "execution_count": 14,
   "metadata": {
    "scrolled": true
   },
   "outputs": [
    {
     "data": {
      "text/plain": [
       "array([[1., 2., 2.],\n",
       "       [2., 2., 2.]])"
      ]
     },
     "execution_count": 14,
     "metadata": {},
     "output_type": "execute_result"
    }
   ],
   "source": [
    "np.column_stack((A,B))"
   ]
  },
  {
   "cell_type": "markdown",
   "metadata": {},
   "source": [
    "<font style=\"font-family: Gill Sans; font-size:1.1em;color:Magenta;\">Let's create hstack another array, and then stack them vertically using np.vstack</font>"
   ]
  },
  {
   "cell_type": "code",
   "execution_count": 15,
   "metadata": {},
   "outputs": [
    {
     "name": "stdout",
     "output_type": "stream",
     "text": [
      "[[3. 3. 4. 4.]\n",
      " [3. 3. 4. 4.]]\n"
     ]
    }
   ],
   "source": [
    "C = 3*np.ones((2,2))\n",
    "D = 4*np.ones((2,2))\n",
    "C_D = np.hstack((C,D))\n",
    "# C_D = np.concatenate((C, D), axis=1) # same as above\n",
    "print(C_D)"
   ]
  },
  {
   "cell_type": "code",
   "execution_count": 16,
   "metadata": {
    "scrolled": true
   },
   "outputs": [
    {
     "name": "stdout",
     "output_type": "stream",
     "text": [
      "[[1. 1. 2. 2.]\n",
      " [1. 1. 2. 2.]\n",
      " [3. 3. 4. 4.]\n",
      " [3. 3. 4. 4.]]\n"
     ]
    }
   ],
   "source": [
    "T = np.vstack((A_B,C_D))\n",
    "# T = np.concatenate((A_B, C_D), axis=0) # same as above\n",
    "print(T)"
   ]
  },
  {
   "cell_type": "markdown",
   "metadata": {},
   "source": [
    "<font style=\"font-family: Gill Sans; font-size:1.1em;color:Magenta;\">Again, like in the previous case, np.row_stack also produces the same output as vstack.  However, note that it doesn't work with single dimensional arrays.</font>"
   ]
  },
  {
   "cell_type": "code",
   "execution_count": 17,
   "metadata": {
    "scrolled": true
   },
   "outputs": [
    {
     "data": {
      "text/plain": [
       "array([[1., 1., 2., 2.],\n",
       "       [1., 1., 2., 2.],\n",
       "       [3., 3., 4., 4.],\n",
       "       [3., 3., 4., 4.]])"
      ]
     },
     "execution_count": 17,
     "metadata": {},
     "output_type": "execute_result"
    }
   ],
   "source": [
    "np.row_stack((A_B, C_D))"
   ]
  },
  {
   "cell_type": "markdown",
   "metadata": {},
   "source": [
    "#### Hmm, but can you explain how does this axis parameter work?"
   ]
  },
  {
   "cell_type": "markdown",
   "metadata": {},
   "source": [
    "<font style=\"font-family: Gill Sans; font-size:1.1em;color:Magenta;\">For example, using axis parameter with np.sum, sums up all elements of the array down the column when axis=0, and across row when axis=1</font>"
   ]
  },
  {
   "cell_type": "code",
   "execution_count": 18,
   "metadata": {},
   "outputs": [
    {
     "name": "stdout",
     "output_type": "stream",
     "text": [
      "[[5 2 1 4]\n",
      " [8 5 8 3]\n",
      " [1 5 9 9]]\n"
     ]
    }
   ],
   "source": [
    "A = np.random.randint(1, 10, size=12).reshape(3,4)\n",
    "print(A)"
   ]
  },
  {
   "cell_type": "code",
   "execution_count": 19,
   "metadata": {},
   "outputs": [
    {
     "data": {
      "text/plain": [
       "array([14, 12, 18, 16])"
      ]
     },
     "execution_count": 19,
     "metadata": {},
     "output_type": "execute_result"
    }
   ],
   "source": [
    "np.sum(A, axis=0) #sums down the column"
   ]
  },
  {
   "cell_type": "code",
   "execution_count": 20,
   "metadata": {
    "scrolled": false
   },
   "outputs": [
    {
     "data": {
      "text/plain": [
       "array([12, 24, 24])"
      ]
     },
     "execution_count": 20,
     "metadata": {},
     "output_type": "execute_result"
    }
   ],
   "source": [
    "np.sum(A, axis=1) #sums across the row"
   ]
  },
  {
   "cell_type": "markdown",
   "metadata": {},
   "source": [
    "#### How did that reshape thingy work in the previous section?"
   ]
  },
  {
   "cell_type": "markdown",
   "metadata": {},
   "source": [
    "<font style=\"font-family: Gill Sans; font-size:1.1em;color:Magenta;\">'reshape' method fundamentally reshapes any input array into the given shape.  Use -1 to compute the shape automatically.</font>"
   ]
  },
  {
   "cell_type": "code",
   "execution_count": 21,
   "metadata": {
    "scrolled": true
   },
   "outputs": [
    {
     "name": "stdout",
     "output_type": "stream",
     "text": [
      "[[2 6 5 4]\n",
      " [1 8 5 2]\n",
      " [8 3 6 3]]\n"
     ]
    }
   ],
   "source": [
    "A = np.random.randint(1, 10, size=12).reshape(-1,4) #because 12 = 3 * 4\n",
    "print(A)"
   ]
  },
  {
   "cell_type": "markdown",
   "metadata": {},
   "source": [
    "<font style=\"font-family: Gill Sans; font-size:1.1em;color:Magenta;\">reshape works with arrays of any dimension.</font>"
   ]
  },
  {
   "cell_type": "code",
   "execution_count": 22,
   "metadata": {
    "scrolled": true
   },
   "outputs": [
    {
     "name": "stdout",
     "output_type": "stream",
     "text": [
      "[[[5 5]\n",
      "  [6 2]]\n",
      "\n",
      " [[8 8]\n",
      "  [5 5]]\n",
      "\n",
      " [[4 3]\n",
      "  [6 1]]]\n"
     ]
    }
   ],
   "source": [
    "A = np.random.randint(1, 10, size=12).reshape(-1,2,2) #because 12 = 3 * 2 * 2\n",
    "print(A)"
   ]
  },
  {
   "cell_type": "markdown",
   "metadata": {},
   "source": [
    "<font style=\"font-family: Gill Sans; font-size:1.1em;color:Magenta;\">Consider a single-dimensional array with 12 elements.  It has shape (12,).  It can be reshaped using any of the two methods, but the first method (reshape) is preferred, since its usage makes it consistent.</font>"
   ]
  },
  {
   "cell_type": "code",
   "execution_count": 23,
   "metadata": {},
   "outputs": [
    {
     "name": "stdout",
     "output_type": "stream",
     "text": [
      "[[4]\n",
      " [1]\n",
      " [3]\n",
      " [8]\n",
      " [5]\n",
      " [3]\n",
      " [5]\n",
      " [2]\n",
      " [3]\n",
      " [1]\n",
      " [6]\n",
      " [5]]\n",
      "[[4]\n",
      " [1]\n",
      " [3]\n",
      " [8]\n",
      " [5]\n",
      " [3]\n",
      " [5]\n",
      " [2]\n",
      " [3]\n",
      " [1]\n",
      " [6]\n",
      " [5]]\n"
     ]
    }
   ],
   "source": [
    "A = np.random.randint(1, 10, size=12)\n",
    "#print(A.shape) # (12,)\n",
    "print(A.reshape(A.shape[0],1))\n",
    "print(A[:,None])  # same as above"
   ]
  },
  {
   "cell_type": "markdown",
   "metadata": {},
   "source": [
    "#### How to split arrays?"
   ]
  },
  {
   "cell_type": "markdown",
   "metadata": {},
   "source": [
    "<font style=\"font-family: Gill Sans; font-size:1.1em;color:Magenta;\">One obvious method is to use indexing or slicing.  Another is to use split method.  This is effectively reversing the operations of concatenation or stacking</font>"
   ]
  },
  {
   "cell_type": "code",
   "execution_count": 24,
   "metadata": {},
   "outputs": [
    {
     "data": {
      "text/plain": [
       "[array([1, 2]), array([3, 4]), array([5, 6])]"
      ]
     },
     "execution_count": 24,
     "metadata": {},
     "output_type": "execute_result"
    }
   ],
   "source": [
    "arr = np.array([1, 2, 3, 4, 5, 6])\n",
    "np.array_split(arr, 3)"
   ]
  },
  {
   "cell_type": "markdown",
   "metadata": {},
   "source": [
    "<font style=\"font-family: Gill Sans; font-size:1.1em;color:Magenta;\">Works with higher dimensional arrays too...</font>"
   ]
  },
  {
   "cell_type": "markdown",
   "metadata": {},
   "source": [
    "<font style=\"font-family: Gill Sans; font-size:1.1em;color:Magenta;\">The 'split' method splits along the rows by default, or by explicitly using axis=0.  Now, this can be joined back together by using vstack</font>"
   ]
  },
  {
   "cell_type": "code",
   "execution_count": 25,
   "metadata": {},
   "outputs": [
    {
     "name": "stdout",
     "output_type": "stream",
     "text": [
      "[array([[1, 2],\n",
      "       [3, 4]]), array([[5, 6],\n",
      "       [7, 8]]), array([[ 9, 10],\n",
      "       [11, 12]])]\n"
     ]
    },
    {
     "data": {
      "text/plain": [
       "array([[ 1,  2],\n",
       "       [ 3,  4],\n",
       "       [ 5,  6],\n",
       "       [ 7,  8],\n",
       "       [ 9, 10],\n",
       "       [11, 12]])"
      ]
     },
     "execution_count": 25,
     "metadata": {},
     "output_type": "execute_result"
    }
   ],
   "source": [
    "arr = np.array([[1, 2], [3, 4], [5, 6], [7, 8], [9, 10], [11, 12]])\n",
    "arr1 = np.array_split(arr, 3)\n",
    "print(arr1)\n",
    "np.vstack(arr1)"
   ]
  },
  {
   "cell_type": "markdown",
   "metadata": {},
   "source": [
    "<font style=\"font-family: Gill Sans; font-size:1.1em;color:Magenta;\">...or along columns with axis=1.  Now, this can be joined back together by using hstack</font>"
   ]
  },
  {
   "cell_type": "code",
   "execution_count": 26,
   "metadata": {},
   "outputs": [
    {
     "name": "stdout",
     "output_type": "stream",
     "text": [
      "[array([[ 1],\n",
      "       [ 3],\n",
      "       [ 5],\n",
      "       [ 7],\n",
      "       [ 9],\n",
      "       [11]]), array([[ 2],\n",
      "       [ 4],\n",
      "       [ 6],\n",
      "       [ 8],\n",
      "       [10],\n",
      "       [12]]), array([], shape=(6, 0), dtype=int32)]\n"
     ]
    },
    {
     "data": {
      "text/plain": [
       "array([[ 1,  2],\n",
       "       [ 3,  4],\n",
       "       [ 5,  6],\n",
       "       [ 7,  8],\n",
       "       [ 9, 10],\n",
       "       [11, 12]])"
      ]
     },
     "execution_count": 26,
     "metadata": {},
     "output_type": "execute_result"
    }
   ],
   "source": [
    "arr = np.array([[1, 2], [3, 4], [5, 6], [7, 8], [9, 10], [11, 12]])\n",
    "arr1=np.array_split(arr, 3,axis=1)\n",
    "print(arr1)\n",
    "np.hstack(arr1) #reproduces the original array arr"
   ]
  },
  {
   "cell_type": "markdown",
   "metadata": {},
   "source": [
    "#### So far so good.  Let's change gears, and explore into ways to generate data..."
   ]
  },
  {
   "cell_type": "markdown",
   "metadata": {},
   "source": [
    "<font style=\"font-family: Gill Sans; font-size:1.1em;color:Magenta;\">There are many options.  \n",
    "I. Let's see usage of np.random module</font>"
   ]
  },
  {
   "attachments": {
    "image.png": {
     "image/png": "[encoded data removed]"
    }
   },
   "cell_type": "markdown",
   "metadata": {},
   "source": [
    "![image.png](attachment:image.png)"
   ]
  },
  {
   "cell_type": "markdown",
   "metadata": {},
   "source": [
    "<font style=\"font-family: Gill Sans; font-size:1.1em;color:Magenta;\">The first two of these functions have similar usage...</font>"
   ]
  },
  {
   "cell_type": "code",
   "execution_count": 27,
   "metadata": {},
   "outputs": [
    {
     "data": {
      "text/plain": [
       "0.6860274608256992"
      ]
     },
     "execution_count": 27,
     "metadata": {},
     "output_type": "execute_result"
    }
   ],
   "source": [
    "np.random.rand() # Sample a random number from the uniform distribution"
   ]
  },
  {
   "cell_type": "code",
   "execution_count": 28,
   "metadata": {},
   "outputs": [
    {
     "data": {
      "text/plain": [
       "array([0.99043144, 0.98862705, 0.91413454])"
      ]
     },
     "execution_count": 28,
     "metadata": {},
     "output_type": "execute_result"
    }
   ],
   "source": [
    "np.random.rand(3) # Sample 3 random numbers from the uniform distribution"
   ]
  },
  {
   "cell_type": "code",
   "execution_count": 29,
   "metadata": {},
   "outputs": [
    {
     "data": {
      "text/plain": [
       "array([[0.94578773, 0.60646954, 0.69452383, 0.74704187],\n",
       "       [0.96964067, 0.84587051, 0.86184451, 0.8902027 ]])"
      ]
     },
     "execution_count": 29,
     "metadata": {},
     "output_type": "execute_result"
    }
   ],
   "source": [
    "np.random.rand(2,4) # Create 2D NumPy array of random samples from the uniform distribution"
   ]
  },
  {
   "cell_type": "code",
   "execution_count": 30,
   "metadata": {},
   "outputs": [
    {
     "data": {
      "text/plain": [
       "-0.984286695346483"
      ]
     },
     "execution_count": 30,
     "metadata": {},
     "output_type": "execute_result"
    }
   ],
   "source": [
    "np.random.randn() # Sample a random number from the standard normal distribution"
   ]
  },
  {
   "cell_type": "code",
   "execution_count": 31,
   "metadata": {},
   "outputs": [
    {
     "data": {
      "text/plain": [
       "array([-0.00136312, -0.2026632 , -0.92983159])"
      ]
     },
     "execution_count": 31,
     "metadata": {},
     "output_type": "execute_result"
    }
   ],
   "source": [
    "np.random.randn(3) # Sample 3 random numbers from the standard normal distribution"
   ]
  },
  {
   "cell_type": "code",
   "execution_count": 32,
   "metadata": {
    "scrolled": true
   },
   "outputs": [
    {
     "data": {
      "text/plain": [
       "array([[-1.14025294, -1.03068055, -0.78479022,  0.02972362],\n",
       "       [-0.78260768, -0.59118568, -0.00461672, -1.43204867]])"
      ]
     },
     "execution_count": 32,
     "metadata": {},
     "output_type": "execute_result"
    }
   ],
   "source": [
    "np.random.randn(2,4) # Create 2D NumPy array of random samples from the standard normal distribution"
   ]
  },
  {
   "cell_type": "markdown",
   "metadata": {},
   "source": [
    "<font style=\"font-family: Gill Sans; font-size:1.1em;color:Magenta;\">...but the last function has a different usage</font>"
   ]
  },
  {
   "cell_type": "code",
   "execution_count": 33,
   "metadata": {},
   "outputs": [
    {
     "data": {
      "text/plain": [
       "1"
      ]
     },
     "execution_count": 33,
     "metadata": {},
     "output_type": "execute_result"
    }
   ],
   "source": [
    "np.random.randint(-10,10) #One random integer sampled uniformly from given interval"
   ]
  },
  {
   "cell_type": "code",
   "execution_count": 34,
   "metadata": {
    "scrolled": true
   },
   "outputs": [
    {
     "data": {
      "text/plain": [
       "array([[0, 0, 0, 1, 0, 0, 1, 1],\n",
       "       [0, 1, 0, 1, 0, 0, 0, 1],\n",
       "       [1, 1, 1, 1, 0, 0, 0, 0],\n",
       "       [1, 1, 0, 0, 0, 1, 0, 1]])"
      ]
     },
     "execution_count": 34,
     "metadata": {},
     "output_type": "execute_result"
    }
   ],
   "source": [
    "np.random.randint(0,2,(4,8))  # 4 x 8 array containing random integers between 0 and 2 (not inclusive)"
   ]
  },
  {
   "cell_type": "markdown",
   "metadata": {},
   "source": [
    "<font style=\"font-family: Gill Sans; font-size:1.1em;color:Magenta;\">and, not listed above is the function np.random.random that produces an array of floats between 0 and 1, in the given shape</font>"
   ]
  },
  {
   "cell_type": "code",
   "execution_count": 35,
   "metadata": {},
   "outputs": [
    {
     "data": {
      "text/plain": [
       "array([[0.94874934, 0.82101658, 0.97602675, 0.60035454],\n",
       "       [0.3285832 , 0.58454764, 0.94247606, 0.93763408],\n",
       "       [0.89654824, 0.16823035, 0.25088461, 0.64157866]])"
      ]
     },
     "execution_count": 35,
     "metadata": {},
     "output_type": "execute_result"
    }
   ],
   "source": [
    "np.random.random((3,4))"
   ]
  },
  {
   "cell_type": "markdown",
   "metadata": {},
   "source": [
    "<font style=\"font-family: Gill Sans; font-size:1.1em;color:Magenta;\">II. Creating an identity square matrix of given shape</font>"
   ]
  },
  {
   "cell_type": "code",
   "execution_count": 36,
   "metadata": {
    "scrolled": true
   },
   "outputs": [
    {
     "data": {
      "text/plain": [
       "array([[1., 0., 0.],\n",
       "       [0., 1., 0.],\n",
       "       [0., 0., 1.]])"
      ]
     },
     "execution_count": 36,
     "metadata": {},
     "output_type": "execute_result"
    }
   ],
   "source": [
    "np.eye(3)"
   ]
  },
  {
   "cell_type": "markdown",
   "metadata": {},
   "source": [
    "<font style=\"font-family: Gill Sans; font-size:1.1em;color:Magenta;\">III\n",
    "    . Creating an diagonal (square) matrix with specified diagonal elements</font>"
   ]
  },
  {
   "cell_type": "code",
   "execution_count": 37,
   "metadata": {
    "scrolled": true
   },
   "outputs": [
    {
     "data": {
      "text/plain": [
       "array([[2, 0, 0],\n",
       "       [0, 3, 0],\n",
       "       [0, 0, 4]])"
      ]
     },
     "execution_count": 37,
     "metadata": {},
     "output_type": "execute_result"
    }
   ],
   "source": [
    "np.diag([2,3,4])"
   ]
  },
  {
   "cell_type": "markdown",
   "metadata": {},
   "source": [
    "<font style=\"font-family: Gill Sans; font-size:1.1em;color:Magenta;\">...or a small variation of this is to specify a diagonal vector, offset by a given number</font>"
   ]
  },
  {
   "cell_type": "code",
   "execution_count": 38,
   "metadata": {
    "scrolled": false
   },
   "outputs": [
    {
     "data": {
      "text/plain": [
       "array([[0, 0, 2, 0, 0],\n",
       "       [0, 0, 0, 3, 0],\n",
       "       [0, 0, 0, 0, 4],\n",
       "       [0, 0, 0, 0, 0],\n",
       "       [0, 0, 0, 0, 0]])"
      ]
     },
     "execution_count": 38,
     "metadata": {},
     "output_type": "execute_result"
    }
   ],
   "source": [
    "np.diag([2,3,4],2)"
   ]
  },
  {
   "cell_type": "markdown",
   "metadata": {},
   "source": [
    "<font style=\"font-family: Gill Sans; font-size:1.1em;color:Magenta;\">IV\n",
    "    . Creating a upper/lower triangular matrix of given shape.  Interestingly, this works even with non-square matrices.</font>"
   ]
  },
  {
   "cell_type": "code",
   "execution_count": 39,
   "metadata": {
    "scrolled": true
   },
   "outputs": [
    {
     "name": "stdout",
     "output_type": "stream",
     "text": [
      "[[1 0 0 0 0 0]\n",
      " [7 4 0 0 0 0]\n",
      " [2 6 4 0 0 0]\n",
      " [9 2 4 9 0 0]]\n",
      "[[1 4 4 9 3 5]\n",
      " [0 4 6 4 2 2]\n",
      " [0 0 4 1 6 1]\n",
      " [0 0 0 9 6 2]]\n"
     ]
    }
   ],
   "source": [
    "M = np.random.randint(1,10,24).reshape(4,6)\n",
    "print(np.tril(M))\n",
    "print(np.triu(M))"
   ]
  },
  {
   "cell_type": "markdown",
   "metadata": {},
   "source": [
    "<font style=\"font-family: Gill Sans; font-size:1.1em;color:Magenta;\">...or a small variation of this is offset the diagonal by a given number</font>"
   ]
  },
  {
   "cell_type": "code",
   "execution_count": 40,
   "metadata": {
    "scrolled": true
   },
   "outputs": [
    {
     "name": "stdout",
     "output_type": "stream",
     "text": [
      "[[1 4 4 0 0 0]\n",
      " [7 4 6 4 0 0]\n",
      " [2 6 4 1 6 0]\n",
      " [9 2 4 9 6 2]]\n"
     ]
    }
   ],
   "source": [
    "print(np.tril(M,2))"
   ]
  },
  {
   "cell_type": "markdown",
   "metadata": {},
   "source": [
    "#### Can I generate data points separated equally from each other?  Like in an arithmetic progression?"
   ]
  },
  {
   "cell_type": "markdown",
   "metadata": {},
   "source": [
    "<font style=\"font-family: Gill Sans; font-size:1.1em;color:Magenta;\">Sure, why not?  Use np.arange or np.linspace</font>"
   ]
  },
  {
   "cell_type": "code",
   "execution_count": 41,
   "metadata": {},
   "outputs": [
    {
     "data": {
      "text/plain": [
       "array([1. , 1.2, 1.4, 1.6, 1.8, 2. , 2.2, 2.4, 2.6, 2.8, 3. , 3.2, 3.4,\n",
       "       3.6, 3.8, 4. , 4.2, 4.4, 4.6, 4.8, 5. , 5.2, 5.4, 5.6, 5.8, 6. ,\n",
       "       6.2, 6.4, 6.6, 6.8, 7. , 7.2, 7.4, 7.6, 7.8, 8. , 8.2, 8.4, 8.6,\n",
       "       8.8, 9. , 9.2, 9.4, 9.6, 9.8])"
      ]
     },
     "execution_count": 41,
     "metadata": {},
     "output_type": "execute_result"
    }
   ],
   "source": [
    "np.arange(1,10, 0.2) # generates floats between 1 and 10, separated by 0.2"
   ]
  },
  {
   "cell_type": "code",
   "execution_count": 42,
   "metadata": {
    "scrolled": true
   },
   "outputs": [
    {
     "data": {
      "text/plain": [
       "array([ 1.        ,  1.47368421,  1.94736842,  2.42105263,  2.89473684,\n",
       "        3.36842105,  3.84210526,  4.31578947,  4.78947368,  5.26315789,\n",
       "        5.73684211,  6.21052632,  6.68421053,  7.15789474,  7.63157895,\n",
       "        8.10526316,  8.57894737,  9.05263158,  9.52631579, 10.        ])"
      ]
     },
     "execution_count": 42,
     "metadata": {},
     "output_type": "execute_result"
    }
   ],
   "source": [
    "np.linspace(1,10,20) #Generates 20 floats, between 1 and 10."
   ]
  },
  {
   "cell_type": "code",
   "execution_count": 43,
   "metadata": {
    "scrolled": true
   },
   "outputs": [
    {
     "data": {
      "text/plain": [
       "array([  1.        ,   3.16227766,  10.        ,  31.6227766 ,\n",
       "       100.        ])"
      ]
     },
     "execution_count": 43,
     "metadata": {},
     "output_type": "execute_result"
    }
   ],
   "source": [
    "np.logspace(0, 2, 5) # Generates 5 data points in logspace between 10**0=1 to 10**2=100"
   ]
  },
  {
   "cell_type": "markdown",
   "metadata": {},
   "source": [
    "#### Meshgrid...that sounds like a flashy name.  What's that?"
   ]
  },
  {
   "cell_type": "markdown",
   "metadata": {},
   "source": [
    "<font style=\"font-family: Gill Sans; font-size:1.1em;color:Magenta;\">meshgrid is inspired by matlab, and is typically used to create contour plots.  \n",
    "    \n",
    "Use np.meshgrid with two 1D arrays, to create a meshgrid containing pairs (co-ordinates) created with one element from each of the input arrays.</font>"
   ]
  },
  {
   "cell_type": "code",
   "execution_count": 44,
   "metadata": {},
   "outputs": [
    {
     "name": "stdout",
     "output_type": "stream",
     "text": [
      "[[-1  0  1]\n",
      " [-1  0  1]\n",
      " [-1  0  1]]\n",
      "[[-2 -2 -2]\n",
      " [ 0  0  0]\n",
      " [-2 -2 -2]]\n"
     ]
    }
   ],
   "source": [
    "x = np.array([-1, 0, 1])\n",
    "y = np.array([-2, 0, -2])\n",
    "X, Y = np.meshgrid(x,y)  # same as X = np.vstack((x,x,x)) and Y = np.vstack((y,y,y))\n",
    "print(X)\n",
    "print(Y)"
   ]
  },
  {
   "cell_type": "markdown",
   "metadata": {},
   "source": [
    "#### What is np.argmax function?  What is it used for?"
   ]
  },
  {
   "cell_type": "markdown",
   "metadata": {},
   "source": [
    "<font style=\"font-family: Gill Sans; font-size:1.1em;color:Magenta;\">Finds the index of the maximum in a row/column of given array</font>"
   ]
  },
  {
   "cell_type": "code",
   "execution_count": 45,
   "metadata": {},
   "outputs": [
    {
     "name": "stdout",
     "output_type": "stream",
     "text": [
      "[[5.71802354 2.36802705 7.99429214 6.61402667 3.44557503 1.05122351\n",
      "  8.89653017]\n",
      " [5.47548305 4.95520033 7.57913206 2.80290403 4.72281998 1.92678402\n",
      "  4.98436325]\n",
      " [3.63595865 9.751185   2.56819632 9.88266803 4.92264724 6.85362002\n",
      "  1.98697167]\n",
      " [3.45167206 8.99935225 8.74873161 1.09889236 8.76994547 7.66004671\n",
      "  0.6675705 ]\n",
      " [1.57236191 8.43013371 2.18904798 7.2952716  2.05403013 4.6353698\n",
      "  9.31760341]\n",
      " [4.75950653 9.23097178 1.25771049 1.54740199 8.58248708 3.7911052\n",
      "  9.65211984]\n",
      " [4.98327041 1.00734727 2.57993573 1.34720797 7.75728658 8.28536273\n",
      "  1.13213514]]\n"
     ]
    }
   ],
   "source": [
    "A = 10 * np.random.random((7, 7))\n",
    "print(A)"
   ]
  },
  {
   "cell_type": "code",
   "execution_count": 46,
   "metadata": {},
   "outputs": [
    {
     "data": {
      "text/plain": [
       "17"
      ]
     },
     "execution_count": 46,
     "metadata": {},
     "output_type": "execute_result"
    }
   ],
   "source": [
    "np.argmax(A) #Flattens the array before returning the index of the max.element."
   ]
  },
  {
   "cell_type": "code",
   "execution_count": 47,
   "metadata": {},
   "outputs": [
    {
     "data": {
      "text/plain": [
       "array([0, 2, 3, 2, 3, 6, 5], dtype=int64)"
      ]
     },
     "execution_count": 47,
     "metadata": {},
     "output_type": "execute_result"
    }
   ],
   "source": [
    "np.argmax(A, axis=0) #Finds index of the max. element down each column."
   ]
  },
  {
   "cell_type": "code",
   "execution_count": 48,
   "metadata": {},
   "outputs": [
    {
     "data": {
      "text/plain": [
       "array([6, 2, 3, 1, 6, 6, 5], dtype=int64)"
      ]
     },
     "execution_count": 48,
     "metadata": {},
     "output_type": "execute_result"
    }
   ],
   "source": [
    "np.argmax(A, axis=1) #Finds index of the max. element across each row."
   ]
  },
  {
   "cell_type": "markdown",
   "metadata": {},
   "source": [
    "<font style=\"font-family: Gill Sans; font-size:1.1em;color:Magenta;\">Consider the following code snippet.  What is it doing?</font>"
   ]
  },
  {
   "cell_type": "code",
   "execution_count": 49,
   "metadata": {
    "scrolled": true
   },
   "outputs": [
    {
     "name": "stdout",
     "output_type": "stream",
     "text": [
      "Absolute maximum value is y = 2.5992726072887007 at x = 1.628136126702901\n",
      "Absolute minimum value is y = -5.129752039182 at x = 5.34187001663503\n"
     ]
    }
   ],
   "source": [
    "N = 10000\n",
    "x = np.linspace(0,2*np.pi,N)\n",
    "y = x * np.sin(x) + np.cos(4*x)\n",
    "\n",
    "y_max = np.max(y)\n",
    "y_min = np.min(y)\n",
    "x_max = x[np.argmax(y)]\n",
    "x_min = x[np.argmin(y)]\n",
    "\n",
    "print('Absolute maximum value is y =',y_max,'at x =',x_max)\n",
    "print('Absolute minimum value is y =',y_min,'at x =',x_min)"
   ]
  },
  {
   "cell_type": "markdown",
   "metadata": {},
   "source": [
    "<font style=\"font-family: Gill Sans; font-size:1.1em;color:Magenta;\">We know linspace generates 10K equally spaced floats between 0 and $2\\pi$\n",
    "\n",
    "We also saw previously how argmax finds the index that generates the maximum value for the specified parameter.\n",
    "\n",
    "Since x and y have same index, we can use argmax(y) to index into vector x, and find the x that generates the maximum y.</font>"
   ]
  },
  {
   "cell_type": "markdown",
   "metadata": {},
   "source": [
    "<font style=\"font-family: Gill Sans; font-size:1.1em;color:Magenta;\">Great going so far!  Let's try a few exercises now</font>"
   ]
  },
  {
   "attachments": {
    "image.png": {
     "image/png": "[encoded data removed]"
    }
   },
   "cell_type": "markdown",
   "metadata": {},
   "source": [
    "![image.png](attachment:image.png)"
   ]
  },
  {
   "cell_type": "code",
   "execution_count": 50,
   "metadata": {},
   "outputs": [],
   "source": [
    "def log_integral(c, N):\n",
    "    del_x = (c - 1) / N\n",
    "    result = 0\n",
    "    for k in range(1, N + 1):\n",
    "        x_k = 1 + (k * del_x)\n",
    "        numerator = np.log(x_k) * del_x\n",
    "        denominator = (1 + np.log(x_k)) ** 2\n",
    "        result += numerator/denominator\n",
    "\n",
    "    return result"
   ]
  },
  {
   "cell_type": "code",
   "execution_count": 51,
   "metadata": {},
   "outputs": [
    {
     "data": {
      "text/plain": [
       "2.0280259971456034"
      ]
     },
     "execution_count": 51,
     "metadata": {},
     "output_type": "execute_result"
    }
   ],
   "source": [
    "log_integral(10, 10000)"
   ]
  },
  {
   "attachments": {
    "image.png": {
     "image/png": "[encoded data removed]"
    }
   },
   "cell_type": "markdown",
   "metadata": {},
   "source": [
    "2. ![image.png](attachment:image.png)"
   ]
  },
  {
   "cell_type": "code",
   "execution_count": 52,
   "metadata": {},
   "outputs": [],
   "source": [
    "M = np.array([[2,4,5],[5,6,7],[3,2,5]])"
   ]
  },
  {
   "cell_type": "code",
   "execution_count": 53,
   "metadata": {},
   "outputs": [],
   "source": [
    "def dot(M, i, j):\n",
    "    return np.dot(M[i, :], M[:, j])"
   ]
  },
  {
   "cell_type": "code",
   "execution_count": 54,
   "metadata": {
    "scrolled": true
   },
   "outputs": [
    {
     "data": {
      "text/plain": [
       "70"
      ]
     },
     "execution_count": 54,
     "metadata": {},
     "output_type": "execute_result"
    }
   ],
   "source": [
    "dot(M, 1, 1)"
   ]
  },
  {
   "cell_type": "markdown",
   "metadata": {},
   "source": [
    "#### How to create permutations and combinations of array elements?"
   ]
  },
  {
   "cell_type": "markdown",
   "metadata": {},
   "source": [
    "<font style=\"font-family: Gill Sans; font-size:1.1em;color:Magenta;\">Use itertools module from the Python standard library</font>"
   ]
  },
  {
   "cell_type": "code",
   "execution_count": 55,
   "metadata": {},
   "outputs": [],
   "source": [
    "import itertools"
   ]
  },
  {
   "cell_type": "code",
   "execution_count": 56,
   "metadata": {},
   "outputs": [
    {
     "name": "stdout",
     "output_type": "stream",
     "text": [
      "[(1, 2), (1, 3), (1, 4), (1, 5), (2, 1), (2, 3), (2, 4), (2, 5), (3, 1), (3, 2), (3, 4), (3, 5), (4, 1), (4, 2), (4, 3), (4, 5), (5, 1), (5, 2), (5, 3), (5, 4)]\n"
     ]
    }
   ],
   "source": [
    "#returns all pair-wise permutations.\n",
    "arr = np.array([1, 2, 3, 4, 5])\n",
    "print(list(itertools.permutations(arr, r=2)))"
   ]
  },
  {
   "cell_type": "code",
   "execution_count": 57,
   "metadata": {},
   "outputs": [
    {
     "name": "stdout",
     "output_type": "stream",
     "text": [
      "[(1, 2), (1, 3), (1, 4), (1, 5), (2, 3), (2, 4), (2, 5), (3, 4), (3, 5), (4, 5)]\n"
     ]
    }
   ],
   "source": [
    "#returns all pair-wise combinations.  Notice, (1,2) is considered same as (2,1)\n",
    "arr = np.array([1, 2, 3, 4, 5])\n",
    "print(list(itertools.combinations(arr, r=2)))"
   ]
  },
  {
   "cell_type": "code",
   "execution_count": 58,
   "metadata": {},
   "outputs": [
    {
     "name": "stdout",
     "output_type": "stream",
     "text": [
      "[(1, 1), (1, 2), (1, 3), (1, 4), (1, 5), (2, 2), (2, 3), (2, 4), (2, 5), (3, 3), (3, 4), (3, 5), (4, 4), (4, 5), (5, 5)]\n"
     ]
    }
   ],
   "source": [
    "#returns all pair-wise combinations, considering repeated elements.\n",
    "arr = np.array([1, 2, 3, 4, 5])\n",
    "print(list(itertools.combinations_with_replacement(arr, r=2)))"
   ]
  },
  {
   "cell_type": "markdown",
   "metadata": {},
   "source": [
    "<font style=\"font-family: Gill Sans; font-size:1.1em;color:Magenta;\">...and, combinations will work irrespective of the number of dimensions of the input array, where entire rows/columns are used to create combinations</font>"
   ]
  },
  {
   "cell_type": "code",
   "execution_count": 59,
   "metadata": {
    "scrolled": true
   },
   "outputs": [],
   "source": [
    "arr = np.array([[2,4,5],[5,6,7],[3,2,5]])\n",
    "arr_comb = itertools.combinations_with_replacement(arr, r=2)"
   ]
  },
  {
   "cell_type": "markdown",
   "metadata": {},
   "source": [
    "<font style=\"font-family: Gill Sans; font-size:1.1em;color:Magenta;\">Below is a code snippet that could be used to find the product of every pair of column vectors generated above.  For the complete code of Polynomial transformation, scroll down to the section <a href='http://localhost:8888/notebooks/IIT-M/MLT/Python%20to%20numpy.ipynb#Some-applications' target=\"_self\">Some Applications<a></font>"
   ]
  },
  {
   "cell_type": "code",
   "execution_count": 60,
   "metadata": {},
   "outputs": [
    {
     "name": "stdout",
     "output_type": "stream",
     "text": [
      "(array([2, 4, 5]), array([2, 4, 5]))\n",
      "[ 4 16 25]\n",
      "(array([2, 4, 5]), array([5, 6, 7]))\n",
      "[10 24 35]\n",
      "(array([2, 4, 5]), array([3, 2, 5]))\n",
      "[ 6  8 25]\n",
      "(array([5, 6, 7]), array([5, 6, 7]))\n",
      "[25 36 49]\n",
      "(array([5, 6, 7]), array([3, 2, 5]))\n",
      "[15 12 35]\n",
      "(array([3, 2, 5]), array([3, 2, 5]))\n",
      "[ 9  4 25]\n"
     ]
    }
   ],
   "source": [
    "for each in arr_comb:\n",
    "    print(each)\n",
    "    print(each[0] * each[1])"
   ]
  },
  {
   "cell_type": "markdown",
   "metadata": {},
   "source": [
    "#### Filtering an array sounds cool!  How can I do that?"
   ]
  },
  {
   "cell_type": "markdown",
   "metadata": {},
   "source": [
    "<font style=\"font-family: Gill Sans; font-size:1.1em;color:Magenta;\">Use the concept of boolean indexing, to filter array elements.  Here, an array of booleans is used to index into the first column of a multi-dimensional array</font>"
   ]
  },
  {
   "cell_type": "code",
   "execution_count": 61,
   "metadata": {},
   "outputs": [
    {
     "data": {
      "text/plain": [
       "array([43, 44])"
      ]
     },
     "execution_count": 61,
     "metadata": {},
     "output_type": "execute_result"
    }
   ],
   "source": [
    "arr = np.array([41, 42, 43, 44])\n",
    "filter_arr = arr > 42 #creating the mask\n",
    "arr[filter_arr]"
   ]
  },
  {
   "cell_type": "markdown",
   "metadata": {},
   "source": [
    "<font style=\"font-family: Gill Sans; font-size:1.1em;color:Magenta;\">In this example, an array of pre-created booleans is used to index into the first column of a multi-dimensional array</font>"
   ]
  },
  {
   "cell_type": "code",
   "execution_count": 62,
   "metadata": {},
   "outputs": [
    {
     "data": {
      "text/plain": [
       "array([[-0.44802394,  1.20465533,  1.194901  , -0.40629002],\n",
       "       [ 0.38977132,  1.26243029,  1.35836862,  0.61255061],\n",
       "       [ 0.74625789,  0.79336647,  0.41590006,  1.21711907],\n",
       "       [ 0.18864379,  0.38575179,  0.91068223,  0.31304133],\n",
       "       [ 1.3579572 ,  0.3545516 ,  0.19317676,  0.88093934],\n",
       "       [ 0.80337543, -1.39250766,  2.21518162,  1.82423003],\n",
       "       [-1.16361622,  1.18699622, -0.05176198,  0.41288582]])"
      ]
     },
     "execution_count": 62,
     "metadata": {},
     "output_type": "execute_result"
    }
   ],
   "source": [
    "names = np.array(['Anand', 'Venkatesh', 'Karthik', 'Milind', \n",
    "                 'Andrew', 'Ashish', 'Madhavan'])\n",
    "data = np.random.randn(7,4)\n",
    "data"
   ]
  },
  {
   "cell_type": "code",
   "execution_count": 63,
   "metadata": {},
   "outputs": [
    {
     "data": {
      "text/plain": [
       "array([[-0.44802394,  1.20465533,  1.194901  , -0.40629002]])"
      ]
     },
     "execution_count": 63,
     "metadata": {},
     "output_type": "execute_result"
    }
   ],
   "source": [
    "data[names == 'Anand']"
   ]
  },
  {
   "cell_type": "markdown",
   "metadata": {},
   "source": [
    "<font style=\"font-family: Gill Sans; font-size:1.1em;color:Magenta;\">This is the same as the following operation</font>"
   ]
  },
  {
   "cell_type": "code",
   "execution_count": 64,
   "metadata": {},
   "outputs": [
    {
     "data": {
      "text/plain": [
       "array([-0.44802394,  1.20465533,  1.194901  , -0.40629002])"
      ]
     },
     "execution_count": 64,
     "metadata": {},
     "output_type": "execute_result"
    }
   ],
   "source": [
    "data[0, :]"
   ]
  },
  {
   "cell_type": "markdown",
   "metadata": {},
   "source": [
    "<font style=\"font-family: Gill Sans; font-size:1.1em;color:Magenta;\">np.where also works the same way...</font>"
   ]
  },
  {
   "cell_type": "code",
   "execution_count": 65,
   "metadata": {
    "scrolled": false
   },
   "outputs": [
    {
     "data": {
      "text/plain": [
       "array([[-0.44802394,  1.20465533,  1.194901  , -0.40629002]])"
      ]
     },
     "execution_count": 65,
     "metadata": {},
     "output_type": "execute_result"
    }
   ],
   "source": [
    "data[np.where(names=='Anand')]"
   ]
  },
  {
   "cell_type": "markdown",
   "metadata": {},
   "source": [
    "<font style=\"font-family: Gill Sans; font-size:1.1em;color:Magenta;\">but, there's a important difference.  Consider this.</font>"
   ]
  },
  {
   "cell_type": "code",
   "execution_count": 66,
   "metadata": {
    "scrolled": false
   },
   "outputs": [
    {
     "data": {
      "text/plain": [
       "array([[ 0.27147253, -0.9489426 ,  1.16858783, -1.327907  ],\n",
       "       [-1.17549594, -0.93903194, -0.17684913, -2.17761053],\n",
       "       [ 0.25333078,  0.23791451, -1.18026481, -0.10922741],\n",
       "       [ 0.09665304, -2.50761894,  0.52540273, -0.62478077],\n",
       "       [ 0.74211834, -1.71093676,  0.23190265,  1.41609324],\n",
       "       [-0.3727819 , -0.81328892,  1.97455558, -0.2749206 ],\n",
       "       [-1.10149795, -0.40954608, -0.09183005, -0.47028891]])"
      ]
     },
     "execution_count": 66,
     "metadata": {},
     "output_type": "execute_result"
    }
   ],
   "source": [
    "names = np.array(['Anand', 'Venkatesh', 'Karthik', 'Milind'])\n",
    "data = np.random.randn(7,4)\n",
    "data"
   ]
  },
  {
   "cell_type": "markdown",
   "metadata": {},
   "source": [
    "<font style=\"font-family: Gill Sans; font-size:1.1em;color:Magenta;\">Using names with data will give an error, since the number of rows in 'data' don't match with the number of elements in 'names'</font>"
   ]
  },
  {
   "cell_type": "code",
   "execution_count": 67,
   "metadata": {},
   "outputs": [
    {
     "name": "stdout",
     "output_type": "stream",
     "text": [
      "This is supposed to give an error!\n"
     ]
    }
   ],
   "source": [
    "# this is embedded in a try block, only so that it doesn't stop from Run all cells.\n",
    "try:\n",
    "    data[names == 'Anand']\n",
    "except:\n",
    "    print(\"This is supposed to give an error!\")"
   ]
  },
  {
   "cell_type": "markdown",
   "metadata": {},
   "source": [
    "<font style=\"font-family: Gill Sans; font-size:1.1.1em;color:Magenta;\">But, np.where will still work!</font>"
   ]
  },
  {
   "cell_type": "code",
   "execution_count": 68,
   "metadata": {
    "scrolled": false
   },
   "outputs": [
    {
     "data": {
      "text/plain": [
       "array([[ 0.27147253, -0.9489426 ,  1.16858783, -1.327907  ]])"
      ]
     },
     "execution_count": 68,
     "metadata": {},
     "output_type": "execute_result"
    }
   ],
   "source": [
    "data[np.where(names=='Anand')]"
   ]
  },
  {
   "cell_type": "markdown",
   "metadata": {},
   "source": [
    "<font style=\"font-family: Gill Sans; font-size:1.1.1em;color:Magenta;\">Following code snippet shows how np.where works.  It returns a tuple containing an array of indices (see below), and as shown in the above code snippet, it can be used index into the original array.</font>"
   ]
  },
  {
   "cell_type": "code",
   "execution_count": 69,
   "metadata": {},
   "outputs": [
    {
     "name": "stdout",
     "output_type": "stream",
     "text": [
      "(array([0, 2, 4, 6], dtype=int64),)\n",
      "[1 3 5 7]\n"
     ]
    }
   ],
   "source": [
    "arr = np.array([1, 2, 3, 4, 5, 6, 7, 8])\n",
    "x = np.where(arr%2 == 1)\n",
    "print(x)\n",
    "print(arr[x]) "
   ]
  },
  {
   "cell_type": "markdown",
   "metadata": {},
   "source": [
    "<font style=\"font-family: Gill Sans; font-size:1.1em;color:Magenta;\">However, the main intent of np.where is to vectorize operations.  Thus...</font>"
   ]
  },
  {
   "cell_type": "code",
   "execution_count": 70,
   "metadata": {
    "scrolled": false
   },
   "outputs": [
    {
     "data": {
      "text/plain": [
       "array([1.1, 2.2, 1.3, 1.4, 2.5])"
      ]
     },
     "execution_count": 70,
     "metadata": {},
     "output_type": "execute_result"
    }
   ],
   "source": [
    "xarr = np.array([1.1, 1.2, 1.3, 1.4, 1.5])\n",
    "yarr = np.array([2.1, 2.2, 2.3, 2.4, 2.5])\n",
    "\n",
    "condition = np.array([True, False, True, True, False])\n",
    "\n",
    "np.where(condition, xarr, yarr)"
   ]
  },
  {
   "cell_type": "markdown",
   "metadata": {},
   "source": [
    "<font style=\"font-family: Gill Sans; font-size:1.1em;color:Magenta;\">Here, depending on the cond value, either xarr is chosen or yarr is chosen</font>"
   ]
  },
  {
   "cell_type": "markdown",
   "metadata": {},
   "source": [
    "<font style=\"font-family: Gill Sans; font-size:1.1em;color:Magenta;\">Quite usefully, this can be used to pick rows from either xarr or yarr, depending on the condition</font>"
   ]
  },
  {
   "cell_type": "code",
   "execution_count": 71,
   "metadata": {
    "scrolled": true
   },
   "outputs": [
    {
     "name": "stdout",
     "output_type": "stream",
     "text": [
      "[[1 7]\n",
      " [4 3]\n",
      " [1 1]\n",
      " [8 8]\n",
      " [5 5]]\n",
      "[[6 2]\n",
      " [8 8]\n",
      " [9 1]\n",
      " [2 8]\n",
      " [6 1]]\n"
     ]
    }
   ],
   "source": [
    "xarr = np.random.randint(1,10,10).reshape(5,2)\n",
    "yarr = np.random.randint(1,10,10).reshape(5,2)\n",
    "print(xarr)\n",
    "print(yarr)"
   ]
  },
  {
   "cell_type": "code",
   "execution_count": 72,
   "metadata": {
    "scrolled": true
   },
   "outputs": [
    {
     "data": {
      "text/plain": [
       "array([[1, 7],\n",
       "       [8, 8],\n",
       "       [1, 1],\n",
       "       [2, 8],\n",
       "       [5, 5]])"
      ]
     },
     "execution_count": 72,
     "metadata": {},
     "output_type": "execute_result"
    }
   ],
   "source": [
    "condition = np.array([True, False, True, False, True]).reshape(5, 1)\n",
    "\n",
    "np.where(condition, xarr, yarr)"
   ]
  },
  {
   "cell_type": "markdown",
   "metadata": {},
   "source": [
    "<font style=\"font-family: Gill Sans; font-size:1.1em;color:Magenta;\">or pick columns...</font>"
   ]
  },
  {
   "cell_type": "code",
   "execution_count": 73,
   "metadata": {
    "scrolled": false
   },
   "outputs": [
    {
     "data": {
      "text/plain": [
       "array([[1, 2],\n",
       "       [4, 8],\n",
       "       [1, 1],\n",
       "       [8, 8],\n",
       "       [5, 1]])"
      ]
     },
     "execution_count": 73,
     "metadata": {},
     "output_type": "execute_result"
    }
   ],
   "source": [
    "condition = np.array([True, False]).reshape(1,2)\n",
    "\n",
    "np.where(condition, xarr, yarr)"
   ]
  },
  {
   "cell_type": "markdown",
   "metadata": {},
   "source": [
    "#### More useful techniques"
   ]
  },
  {
   "cell_type": "markdown",
   "metadata": {},
   "source": [
    "<font style=\"font-family: Gill Sans; font-size:1.1em;color:Magenta;\">Use ravel to 'flatten' an array of n-dimensions.  Alternatively, reshape to -1</font>"
   ]
  },
  {
   "cell_type": "code",
   "execution_count": 74,
   "metadata": {},
   "outputs": [
    {
     "data": {
      "text/plain": [
       "array([1, 2, 3, 4, 5, 6, 7, 8])"
      ]
     },
     "execution_count": 74,
     "metadata": {},
     "output_type": "execute_result"
    }
   ],
   "source": [
    "arr = np.array([[[1, 2], [3, 4]], [[5, 6], [7, 8]]])\n",
    "np.ravel(arr)\n",
    "#arr.reshape(-1) #achieves the same result as above"
   ]
  },
  {
   "cell_type": "markdown",
   "metadata": {},
   "source": [
    "<font style=\"font-family: Gill Sans; font-size:1.1em;color:Magenta;\">Alternatively, use nditer method to iterate over a n-dimensional array without 'flattening'</font>"
   ]
  },
  {
   "cell_type": "code",
   "execution_count": 75,
   "metadata": {
    "scrolled": false
   },
   "outputs": [
    {
     "name": "stdout",
     "output_type": "stream",
     "text": [
      "1\n",
      "2\n",
      "3\n",
      "4\n",
      "5\n",
      "6\n",
      "7\n",
      "8\n"
     ]
    }
   ],
   "source": [
    "for x in np.nditer(arr):\n",
    "  print(x)"
   ]
  },
  {
   "cell_type": "markdown",
   "metadata": {},
   "source": [
    "<font style=\"font-family: Gill Sans; font-size:1.1em;color:Magenta;\">Or enumerate the elements in an n-dimensional array, similar to enumerating a list in Python</font>"
   ]
  },
  {
   "cell_type": "code",
   "execution_count": 76,
   "metadata": {
    "scrolled": true
   },
   "outputs": [
    {
     "name": "stdout",
     "output_type": "stream",
     "text": [
      "((0, 0, 0), 1)\n",
      "((0, 0, 1), 2)\n",
      "((0, 1, 0), 3)\n",
      "((0, 1, 1), 4)\n",
      "((1, 0, 0), 5)\n",
      "((1, 0, 1), 6)\n",
      "((1, 1, 0), 7)\n",
      "((1, 1, 1), 8)\n"
     ]
    }
   ],
   "source": [
    "for x in np.ndenumerate(arr):\n",
    "  print(x)"
   ]
  },
  {
   "cell_type": "markdown",
   "metadata": {},
   "source": [
    "### Some applications"
   ]
  },
  {
   "cell_type": "markdown",
   "metadata": {},
   "source": [
    "#### 1. One-hot encoding"
   ]
  },
  {
   "cell_type": "markdown",
   "metadata": {},
   "source": [
    "<font style=\"font-family: Gill Sans; font-size:1.1em;color:Magenta;\">Use 'searchsorted' to find the indices into a sorted array a such that, if the corresponding elements in v were inserted before the indices, the order of a would be preserved.  Here's how it works.</font>"
   ]
  },
  {
   "cell_type": "code",
   "execution_count": 77,
   "metadata": {},
   "outputs": [
    {
     "data": {
      "text/plain": [
       "array([0, 5, 1, 2], dtype=int64)"
      ]
     },
     "execution_count": 77,
     "metadata": {},
     "output_type": "execute_result"
    }
   ],
   "source": [
    "# -10 should be the first element to maintain the sorted nature of a, so it should have an index 0\n",
    "# 10 should be the last element to maintain the sorted nature of a, so it should have an index 5\n",
    "# 2 should be the second element to maintain the sorted nature of a, so it should have an index 1\n",
    "# 3 should be the third element to maintain the sorted nature of a, so it should have an index 2\n",
    "a = [1,2,3,4,5]\n",
    "v = [-10, 10, 2, 3]\n",
    "np.searchsorted(a, v)"
   ]
  },
  {
   "cell_type": "markdown",
   "metadata": {},
   "source": [
    "<font style=\"font-family: Gill Sans; font-size:1.1em;color:Magenta;\">Quite usefully, it can be used to convert an array of obejcts to their indices, as far as the elements in v can be compared with that in a, and hence can be ordered.  This can be [used for one-hot encoding](https://stackoverflow.com/questions/58406795/how-to-convert-2d-numpy-array-to-one-hot-encoding)</font>"
   ]
  },
  {
   "cell_type": "code",
   "execution_count": 78,
   "metadata": {},
   "outputs": [
    {
     "name": "stdout",
     "output_type": "stream",
     "text": [
      "[4 0 3 1 3 0 2]\n"
     ]
    }
   ],
   "source": [
    "X = [8,2,6,4,6,2,5]\n",
    "\n",
    "v = np.array(X)\n",
    "a = np.unique(X) # Get unique classes.\n",
    "\n",
    "idx = np.searchsorted(a, v)\n",
    "print(idx)"
   ]
  },
  {
   "cell_type": "code",
   "execution_count": 79,
   "metadata": {
    "scrolled": true
   },
   "outputs": [
    {
     "data": {
      "text/plain": [
       "array([[0., 0., 0., 0., 1.],\n",
       "       [1., 0., 0., 0., 0.],\n",
       "       [0., 0., 0., 1., 0.],\n",
       "       [0., 1., 0., 0., 0.],\n",
       "       [0., 0., 0., 1., 0.],\n",
       "       [1., 0., 0., 0., 0.],\n",
       "       [0., 0., 1., 0., 0.]])"
      ]
     },
     "execution_count": 79,
     "metadata": {},
     "output_type": "execute_result"
    }
   ],
   "source": [
    "#Convert the input array v to one-hot encoding\n",
    "eye = np.eye(a.shape[0])\n",
    "np.row_stack([eye[i] for i in idx.T])"
   ]
  },
  {
   "cell_type": "markdown",
   "metadata": {},
   "source": [
    "#### 2. Polynomial Transformation"
   ]
  },
  {
   "cell_type": "markdown",
   "metadata": {},
   "source": [
    "<font style=\"font-family: Gill Sans; font-size:1.1em;color:Magenta;\">Here's an alternative logic to solve the polynomial transformation problem in Week3 of MLT</font>"
   ]
  },
  {
   "cell_type": "code",
   "execution_count": 80,
   "metadata": {},
   "outputs": [],
   "source": [
    "def product(item):\n",
    "    try:\n",
    "        return item[0] * item[1]\n",
    "    except:\n",
    "        return item[0]\n",
    "\n",
    "def polynomial_transform(X, degree):\n",
    "    if X.ndim == 1:\n",
    "        X = X[:, None]\n",
    "    X = X.T\n",
    "    result = np.ones(X.shape[1])\n",
    "    for i in range(1, degree + 1):\n",
    "        for each in [product(each) for each in itertools.combinations_with_replacement(X, i)]:\n",
    "            result = np.column_stack((result, each))\n",
    "    return result"
   ]
  },
  {
   "cell_type": "code",
   "execution_count": 81,
   "metadata": {},
   "outputs": [
    {
     "data": {
      "text/plain": [
       "array([[ 1.,  2.,  3.,  4.,  6.,  9.,  4.,  4.,  6.,  9.],\n",
       "       [ 1.,  4.,  5., 16., 20., 25., 16., 16., 20., 25.]])"
      ]
     },
     "execution_count": 81,
     "metadata": {},
     "output_type": "execute_result"
    }
   ],
   "source": [
    "X = np.array([[2, 3],[4, 5]])\n",
    "polynomial_transform(X, 3)"
   ]
  },
  {
   "cell_type": "markdown",
   "metadata": {},
   "source": [
    "References:\n",
    "\n",
    "https://personal.math.ubc.ca/~pwalls/math-python/scipy/numpy\n",
    "\n",
    "https://github.com/alanmenchaca/numpy-notes/blob/main/Creating_Arrays.ipynb\n",
    "\n",
    "https://github.com/vicsho997/NumpyPractice\n",
    "\n",
    "https://github.com/boscoybarra/algebra-basics-with-numpy-cheat-sheet/blob/master/Numpy_Arrays_Cheat_Sheet.ipynb"
   ]
  },
  {
   "cell_type": "markdown",
   "metadata": {},
   "source": [
    " "
   ]
  },
  {
   "cell_type": "markdown",
   "metadata": {},
   "source": [
    "<font style=\"font-family: Gill Sans; font-size:1.1em;color:Magenta;\"> While discussing about this topic [here](https://discourse.onlinedegree.iitm.ac.in/t/how-to-migrate-from-python-to-numpys-way-of-thinking/33632/5), a few suggestions came up from Karthik.T.  Including those here as is, since I believe these are very relevant to the learning - very specifically the suggestion#2\n",
    "\n",
    "###### Suggestion-1\n",
    "From the exam point of view, one suggestion is to narrow down the list of relevant methods, group them according to some common theme, see where they pop up in the assignments/colabs, and be very thorough with their usage:\n",
    "\n",
    "Array manipulation\n",
    "\n",
    "- ndim\n",
    "- reshape\n",
    "- transpose\n",
    "\n",
    "Initializing arrays\n",
    "\n",
    "- ones\n",
    "- zeros\n",
    "\n",
    "Summary\n",
    "\n",
    "- sum\n",
    "- mean\n",
    "- var\n",
    "- std\n",
    "\n",
    "Multiple arrays\n",
    "\n",
    "- concatenate\n",
    "- column_stack\n",
    "- dot\n",
    "\n",
    "Sometimes there may be multiple ways to do the same thing, so it might be a good idea to choose one method and stick to that. Making this choice before exam helps a lot. For example, I seldom use the methods transpose and dot. I directly go for X.T and X.T @ X instead of np.transpose(X) and np.dot(X, X).\n",
    "\n",
    "###### Suggestion-2\n",
    "The other suggestion is to gain fluency in converting mathematical equations to their NumPy equivalents. I think a lot of NumPy usage ultimately boils down to this translation.\n",
    "\n",
    "###### Suggestion-3\n",
    "Fluency with operations that are directly done on a NumPy array:\n",
    "\n",
    "- access a particular row or column\n",
    "- get all data-points that belong to a particular class\n",
    "</font>"
   ]
  }
 ],
 "metadata": {
  "kernelspec": {
   "display_name": "Python 3",
   "language": "python",
   "name": "python3"
  },
  "language_info": {
   "codemirror_mode": {
    "name": "ipython",
    "version": 3
   },
   "file_extension": ".py",
   "mimetype": "text/x-python",
   "name": "python",
   "nbconvert_exporter": "python",
   "pygments_lexer": "ipython3",
   "version": "3.7.4"
  }
 },
 "nbformat": 4,
 "nbformat_minor": 2
}
